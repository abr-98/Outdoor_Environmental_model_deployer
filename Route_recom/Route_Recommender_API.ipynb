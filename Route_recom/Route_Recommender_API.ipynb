{
 "cells": [
  {
   "cell_type": "code",
   "execution_count": 1,
   "metadata": {},
   "outputs": [],
   "source": [
    "import googlemaps\n",
    "import matplotlib.pyplot as plt\n",
    "import numpy as np\n",
    "import pandas as pd\n",
    "import pickle\n",
    "import json\n",
    "import PIL"
   ]
  },
  {
   "cell_type": "code",
   "execution_count": 2,
   "metadata": {},
   "outputs": [],
   "source": [
    "START_LONG=87.269568\n",
    "START_LAT=23.534924\n",
    "END_LONG=87.321653\n",
    "END_LAT=23.565774\n",
    "ACTIONS=8"
   ]
  },
  {
   "cell_type": "code",
   "execution_count": 3,
   "metadata": {},
   "outputs": [],
   "source": [
    "def create_divisions(N):\n",
    "    Y_Axis=np.linspace(START_LAT,END_LAT,N)\n",
    "    X_Axis=np.linspace(START_LONG,END_LONG,N)\n",
    "    Longitudes,Latitudes=np.meshgrid(X_Axis,Y_Axis)\n",
    "    df_lat_long=pd.DataFrame(list(zip(Latitudes.flatten(),Longitudes.flatten())),columns=['Latitudes','Longitudes'])\n",
    "    return df_lat_long"
   ]
  },
  {
   "cell_type": "code",
   "execution_count": 4,
   "metadata": {},
   "outputs": [],
   "source": [
    "def euclidean_distance(x1,y1,x2,y2):\n",
    "    return ((x1-x2)**2+(y1-y2)**2)**0.5\n"
   ]
  },
  {
   "cell_type": "code",
   "execution_count": 5,
   "metadata": {},
   "outputs": [],
   "source": [
    "def add_reward_pollution_column(pollution_prediction,N,destination):\n",
    "    df_lat_long=create_divisions(N)\n",
    "    \n",
    "    GOAL_STATE=np.argmin(df_lat_long[['Latitudes','Longitudes']].apply(lambda tup: euclidean_distance(tup[0],tup[1],destination[0],destination[1]),axis=1).values)\n",
    "    #### Goal state defined\n",
    "    df_lat_long['Pol_rewards']=-1*(np.array((PIL.Image.fromarray(pollution_prediction)).resize((N,N),PIL.Image.NEAREST)).flatten())\n",
    "    #### For ubuntu: If Error Use this:\n",
    "    #df_lat_long['Pol_rewards']=-1*(np.array((PIL.Image.fromarray(pollution_prediction)).astype(np.uint8).fromarray(arr)).resize((N,N),PIL.Image.NEAREST)).flatten())\n",
    "    ### Defined \n",
    "    df_lat_long.loc[GOAL_STATE,'Pol_rewards']=10\n",
    "    ## Defined goal state rewards\n",
    "    return df_lat_long"
   ]
  },
  {
   "cell_type": "code",
   "execution_count": 6,
   "metadata": {},
   "outputs": [],
   "source": [
    "MAX_AQI=3\n",
    "MIN_AQI=1\n",
    "def return_combined_data(pollution_prediction,N,destination,alpha):\n",
    "    matrix=[]\n",
    "    df_state_details=add_reward_pollution_column(pollution_prediction,N,destination)\n",
    "    with open('Recorded_details.json', 'r') as openfile: \n",
    "        fixed_data = json.load(openfile)\n",
    "    for i in range(N):\n",
    "        for j in range(N):\n",
    "            point_det=[]\n",
    "            data=fixed_data.get(str(N*i+j))\n",
    "            point_det.append(data['Id'])\n",
    "            for action in range(ACTIONS):\n",
    "                if data['directions'][str(action)]['distance']!=0:\n",
    "                    data['directions'][str(action)]['cost']=alpha*(data['directions'][str(action)]['cost'])+(1-alpha)*((df_state_details.iloc[N*i+j]['Pol_rewards']-MIN_AQI)/(MAX_AQI-MIN_AQI))\n",
    "            else:\n",
    "                data['directions'][str(action)]['cost']=df_state_details.iloc[N*i+j]['Pol_rewards']\n",
    "            \n",
    "            point_det.append(data['directions'])\n",
    "            matrix.append(point_det)\n",
    "    df_matrix=pd.DataFrame(matrix,columns=['Id','directions'])\n",
    "    df_state_details=pd.concat([df_matrix,df_state_details],axis=1)\n",
    "    \n",
    "    return df_state_details\n",
    "        "
   ]
  },
  {
   "cell_type": "code",
   "execution_count": 7,
   "metadata": {},
   "outputs": [],
   "source": [
    "#### ALGORITHM\n",
    "def policy_iteration(P,R,STATES):\n",
    "    Q=np.zeros((ACTIONS,STATES,1))\n",
    "    Q_bk=np.random.random((ACTIONS,STATES,1))\n",
    "    V=np.zeros((STATES,1))\n",
    "    gamma=0.999\n",
    "    while(np.abs(Q-Q_bk).sum()>0.000001):\n",
    "        Q_bk=Q.copy()\n",
    "        Q=R+gamma*np.matmul(P,V)\n",
    "        policy=np.argmax(Q,axis=0)\n",
    "        V=np.max(Q,axis=0)\n",
    "    return policy"
   ]
  },
  {
   "cell_type": "code",
   "execution_count": 8,
   "metadata": {},
   "outputs": [],
   "source": [
    "### ALGORITHM EXECUTER\n",
    "def return_policy(pollution_prediction,destination,N,alpha):\n",
    "    df_state_details=return_combined_data(pollution_prediction,N,destination,alpha)\n",
    "    STATES=len(df_state_details)\n",
    "    P=np.zeros((ACTIONS,STATES,STATES))\n",
    "    R=np.zeros((ACTIONS,STATES,1))\n",
    "    for state in range(STATES):\n",
    "        mapping=df_state_details.iloc[state]['directions']\n",
    "        for action in range(ACTIONS):\n",
    "            move=mapping.get(str(action))\n",
    "            P[action,state,move['id']]=1\n",
    "            R[action,state]=move['cost']\n",
    "    policy=policy_iteration(P,R,STATES)\n",
    "    return policy,df_state_details "
   ]
  },
  {
   "cell_type": "code",
   "execution_count": 9,
   "metadata": {},
   "outputs": [],
   "source": [
    "def get_single_source_path_deterministic(source,destination,pollution_prediction,alpha=0.3,N=16): \n",
    "    policy,df_state=return_policy(pollution_prediction,destination,N,alpha)    \n",
    "    SOURCE_STATE=np.argmin(df_state[['Latitudes','Longitudes']].apply(lambda tup: euclidean_distance(tup[0],tup[1],source[0],source[1]),axis=1).values)\n",
    "    GOAL_STATE=np.argmin(df_state[['Latitudes','Longitudes']].apply(lambda tup: euclidean_distance(tup[0],tup[1],destination[0],destination[1]),axis=1).values)\n",
    "    Path=[]\n",
    "    AQI_SUM=0\n",
    "    state=SOURCE_STATE\n",
    "    while state!=GOAL_STATE:\n",
    "        Tuples=df_state.iloc[state]['directions'][str(policy[state][0])]['Tuples_list']\n",
    "        AQI_SUM+=df_state.iloc[state]['Pol_rewards']\n",
    "        for tup in Tuples:\n",
    "            Path.append(tup)\n",
    "        state=df_state.iloc[state]['directions'][str(policy[state][0])]['id']\n",
    "    \n",
    "    map_to_return={}\n",
    "    map_to_return['Path']=list(Path)\n",
    "    map_to_return['AQI_sum']=int(AQI_SUM)\n",
    "    return map_to_return\n",
    "    "
   ]
  },
  {
   "cell_type": "code",
   "execution_count": 10,
   "metadata": {},
   "outputs": [],
   "source": [
    "def get_single_source_path_probabilistic_30(source,destination,pollution_prediction,alpha=0.3,N=16): \n",
    "    policy,df_state=return_policy(pollution_prediction,destination,N,alpha)    \n",
    "    SOURCE_STATE=np.argmin(df_state[['Latitudes','Longitudes']].apply(lambda tup: euclidean_distance(tup[0],tup[1],source[0],source[1]),axis=1).values)\n",
    "    #dest_lat,dest_long=get_lat_long(destination)\n",
    "    GOAL_STATE=np.argmin(df_state[['Latitudes','Longitudes']].apply(lambda tup: euclidean_distance(tup[0],tup[1],destination[0],destination[1]),axis=1).values)\n",
    "    Path=[]\n",
    "    state=SOURCE_STATE\n",
    "    AQI_SUM=0\n",
    "    while state!=GOAL_STATE:\n",
    "        if np.random.random()<=0.7:\n",
    "            action=policy[state][0]\n",
    "        else:\n",
    "            action=np.random.randint(0,8)\n",
    "            \n",
    "        Tuples=df_state.iloc[state]['directions'][str(action)]['Tuples_list']\n",
    "        AQI_SUM+=df_state.iloc[state]['Pol_rewards']\n",
    "        for tup in Tuples:\n",
    "            Path.append(tup)\n",
    "        state=df_state.iloc[state]['directions'][str(action)]['id']\n",
    "    \n",
    "    map_to_return={}\n",
    "    map_to_return['Path']=list(Path)\n",
    "    map_to_return['AQI_sum']=int(AQI_SUM)\n",
    "    return map_to_return\n",
    "    "
   ]
  },
  {
   "cell_type": "code",
   "execution_count": 11,
   "metadata": {},
   "outputs": [],
   "source": [
    "def get_single_source_path_probabilistic_50(source,destination,pollution_prediction,alpha=0.3,N=16): \n",
    "    policy,df_state=return_policy(pollution_prediction,destination,N,alpha)    \n",
    "    SOURCE_STATE=np.argmin(df_state[['Latitudes','Longitudes']].apply(lambda tup: euclidean_distance(tup[0],tup[1],source[0],source[1]),axis=1).values)\n",
    "    #dest_lat,dest_long=get_lat_long(destination)\n",
    "    GOAL_STATE=np.argmin(df_state[['Latitudes','Longitudes']].apply(lambda tup: euclidean_distance(tup[0],tup[1],destination[0],destination[1]),axis=1).values)\n",
    "    Path=[]\n",
    "    state=SOURCE_STATE\n",
    "    AQI_SUM=0\n",
    "    while state!=GOAL_STATE:\n",
    "        if np.random.random()<=0.5:\n",
    "            action=policy[state][0]\n",
    "        else:\n",
    "            action=np.random.randint(0,8)\n",
    "            \n",
    "        Tuples=df_state.iloc[state]['directions'][str(action)]['Tuples_list']\n",
    "        AQI_SUM+=df_state.iloc[state]['Pol_rewards']\n",
    "        for tup in Tuples:\n",
    "            Path.append(tup)\n",
    "        state=df_state.iloc[state]['directions'][str(action)]['id']\n",
    "    \n",
    "    map_to_return={}\n",
    "    map_to_return['Path']=list(Path)\n",
    "    map_to_return['AQI_sum']=int(AQI_SUM)\n",
    "    return map_to_return\n",
    "    "
   ]
  },
  {
   "cell_type": "code",
   "execution_count": 12,
   "metadata": {},
   "outputs": [],
   "source": [
    "def all_results(source,destination,pollution_prediction,alpha=0.3):\n",
    "    source_l=source.split('_')\n",
    "    source=(float(source_l[0]),float(source_l[1]))\n",
    "    dest_l=destination.split('_')\n",
    "    destination=(float(dest_l[0]),float(dest_l[1]))\n",
    "    \n",
    "    deterministic_path_details=get_single_source_path_deterministic(source,destination,pollution_prediction,alpha)\n",
    "    probabilistic_30_path_details=get_single_source_path_probabilistic_30(source,destination,pollution_prediction,alpha)\n",
    "    probabilistic_50_path_details=get_single_source_path_probabilistic_50(source,destination,pollution_prediction,alpha)\n",
    "    \n",
    "    mapping_routes={}\n",
    "    mapping_routes['deterministic']=deterministic_path_details\n",
    "    mapping_routes['probabilistic_30']=probabilistic_30_path_details\n",
    "    mapping_routes['probabilistic_50']=probabilistic_50_path_details\n",
    "    \n",
    "    return mapping_routes\n",
    "    "
   ]
  },
  {
   "cell_type": "code",
   "execution_count": 13,
   "metadata": {},
   "outputs": [],
   "source": [
    "from flask import Flask,request,Response,jsonify"
   ]
  },
  {
   "cell_type": "code",
   "execution_count": 14,
   "metadata": {},
   "outputs": [],
   "source": [
    "app = Flask(__name__)"
   ]
  },
  {
   "cell_type": "code",
   "execution_count": 15,
   "metadata": {},
   "outputs": [],
   "source": [
    "@app.route('/')\n",
    "def home():\n",
    "    return \"Hello from home\""
   ]
  },
  {
   "cell_type": "code",
   "execution_count": 16,
   "metadata": {},
   "outputs": [],
   "source": [
    "@app.route('/get_route')\n",
    "def get_route():\n",
    "    source=request.args.get('src')\n",
    "    destination=request.args.get('dst')\n",
    "    alpha=float(request.args.get('weight'))\n",
    "    arr=np.array([\n",
    "    [1,2,1,3],\n",
    "    [2,1,1,3],\n",
    "    [1,1,1,2],\n",
    "    [2,2,3,3]\n",
    "    ],dtype=np.uint8)\n",
    "    paths=all_results(source,destination,arr,alpha)\n",
    "    return jsonify(paths)\n",
    "    "
   ]
  },
  {
   "cell_type": "code",
   "execution_count": 17,
   "metadata": {
    "scrolled": false
   },
   "outputs": [
    {
     "name": "stdout",
     "output_type": "stream",
     "text": [
      " * Serving Flask app \"__main__\" (lazy loading)\n",
      " * Environment: production\n",
      "   WARNING: Do not use the development server in a production environment.\n",
      "   Use a production WSGI server instead.\n",
      " * Debug mode: off\n"
     ]
    },
    {
     "name": "stderr",
     "output_type": "stream",
     "text": [
      " * Running on http://127.0.0.1:5000/ (Press CTRL+C to quit)\n",
      "127.0.0.1 - - [12/Jan/2021 20:22:57] \"\u001b[37mGET / HTTP/1.1\u001b[0m\" 200 -\n",
      "127.0.0.1 - - [12/Jan/2021 20:23:40] \"\u001b[37mGET /get_route?src=23.565774_87.269568&dst=23.555_87.29&weight=0.3 HTTP/1.1\u001b[0m\" 200 -\n"
     ]
    }
   ],
   "source": [
    "app.run()"
   ]
  },
  {
   "cell_type": "code",
   "execution_count": null,
   "metadata": {},
   "outputs": [],
   "source": [
    "source=23.565774, 87.269568\n",
    "dest=23.555 ,87.29\n",
    "src=str(source[0])+'_'+str(source[1])\n",
    "dst=str(dest[0])+'_'+str(dest[1])\n",
    "alpha=0.3\n",
    "arr=np.array([\n",
    "    [1,2,1,3],\n",
    "    [2,1,1,3],\n",
    "    [1,1,1,2],\n",
    "    [2,2,3,3]\n",
    "paths=all_results(source,destination,arr,alpha)"
   ]
  },
  {
   "cell_type": "code",
   "execution_count": 14,
   "metadata": {},
   "outputs": [
    {
     "data": {
      "text/plain": [
       "{'deterministic': {'Path': [[23.565774, 87.269568],\n",
       "   [23.565259833333336, 87.27043608333334],\n",
       "   [23.564745666666667, 87.27130416666668],\n",
       "   [23.564231499999998, 87.27217225000001],\n",
       "   [23.563717333333333, 87.27304033333334],\n",
       "   [23.563717333333333, 87.27304033333334],\n",
       "   [23.563203166666668, 87.27390841666667],\n",
       "   [23.562689, 87.2747765],\n",
       "   [23.562174833333334, 87.27564458333335],\n",
       "   [23.56166066666667, 87.27651266666668],\n",
       "   [23.56166066666667, 87.27651266666668],\n",
       "   [23.5611465, 87.27738075],\n",
       "   [23.560632333333334, 87.27824883333335],\n",
       "   [23.56011816666667, 87.27911691666668],\n",
       "   [23.559604, 87.27998500000001],\n",
       "   [23.559604, 87.27998500000001],\n",
       "   [23.559089833333335, 87.28085308333334],\n",
       "   [23.55857566666667, 87.28172116666667],\n",
       "   [23.5580615, 87.28258925],\n",
       "   [23.557547333333336, 87.28345733333333],\n",
       "   [23.557547333333336, 87.28345733333333],\n",
       "   [23.557547333333336, 87.28432541666666],\n",
       "   [23.557547333333336, 87.28519349999999],\n",
       "   [23.557547333333336, 87.28606158333334],\n",
       "   [23.557547333333336, 87.28692966666667],\n",
       "   [23.557547333333336, 87.28692966666667],\n",
       "   [23.55703316666667, 87.28779775],\n",
       "   [23.556519, 87.28866583333334],\n",
       "   [23.556004833333333, 87.28953391666667],\n",
       "   [23.555490666666667, 87.290402]],\n",
       "  'AQI_sum': -10},\n",
       " 'probabilistic_30': {'Path': [[23.565774, 87.269568],\n",
       "   [23.565259833333336, 87.27043608333334],\n",
       "   [23.564745666666667, 87.27130416666668],\n",
       "   [23.564231499999998, 87.27217225000001],\n",
       "   [23.563717333333333, 87.27304033333334],\n",
       "   [23.563717333333333, 87.27304033333334],\n",
       "   [23.563203166666668, 87.27390841666667],\n",
       "   [23.562689, 87.2747765],\n",
       "   [23.562174833333334, 87.27564458333335],\n",
       "   [23.56166066666667, 87.27651266666668],\n",
       "   [23.56166066666667, 87.27651266666668],\n",
       "   [23.5611465, 87.27651266666668],\n",
       "   [23.560632333333334, 87.27651266666668],\n",
       "   [23.56011816666667, 87.27651266666668],\n",
       "   [23.559604, 87.27651266666668],\n",
       "   [23.559604, 87.27651266666668],\n",
       "   [23.559089833333335, 87.27738075],\n",
       "   [23.55857566666667, 87.27824883333335],\n",
       "   [23.5580615, 87.27911691666668],\n",
       "   [23.557547333333336, 87.27998500000001],\n",
       "   [23.557547333333336, 87.27998500000001],\n",
       "   [23.557547333333336, 87.28085308333334],\n",
       "   [23.557547333333336, 87.28172116666667],\n",
       "   [23.557547333333336, 87.28258925],\n",
       "   [23.557547333333336, 87.28345733333333],\n",
       "   [23.557547333333336, 87.28345733333333],\n",
       "   [23.557547333333336, 87.28432541666666],\n",
       "   [23.557547333333336, 87.28519349999999],\n",
       "   [23.557547333333336, 87.28606158333334],\n",
       "   [23.557547333333336, 87.28692966666667],\n",
       "   [23.557547333333336, 87.28692966666667],\n",
       "   [23.55703316666667, 87.28779775],\n",
       "   [23.556519, 87.28866583333334],\n",
       "   [23.556004833333333, 87.28953391666667],\n",
       "   [23.555490666666667, 87.290402]],\n",
       "  'AQI_sum': -11},\n",
       " 'probabilistic_50': {'Path': [[23.565774, 87.269568],\n",
       "   [23.565259833333336, 87.27043608333334],\n",
       "   [23.564745666666667, 87.27130416666668],\n",
       "   [23.564231499999998, 87.27217225000001],\n",
       "   [23.563717333333333, 87.27304033333334],\n",
       "   [23.563717333333333, 87.27304033333334],\n",
       "   [23.563203166666668, 87.27390841666667],\n",
       "   [23.562689, 87.2747765],\n",
       "   [23.562174833333334, 87.27564458333335],\n",
       "   [23.56166066666667, 87.27651266666668],\n",
       "   [23.56166066666667, 87.27651266666668],\n",
       "   [23.562174833333334, 87.27738075],\n",
       "   [23.562689, 87.27824883333335],\n",
       "   [23.563203166666668, 87.27911691666668],\n",
       "   [23.563717333333333, 87.27998500000001],\n",
       "   [23.563717333333333, 87.27998500000001],\n",
       "   [23.563203166666668, 87.27998500000001],\n",
       "   [23.562689, 87.27998500000001],\n",
       "   [23.562174833333334, 87.27998500000001],\n",
       "   [23.56166066666667, 87.27998500000001],\n",
       "   [23.56166066666667, 87.27998500000001],\n",
       "   [23.562174833333334, 87.28085308333334],\n",
       "   [23.562689, 87.28172116666667],\n",
       "   [23.563203166666668, 87.28258925],\n",
       "   [23.563717333333333, 87.28345733333333],\n",
       "   [23.563717333333333, 87.28345733333333],\n",
       "   [23.563203166666668, 87.28345733333333],\n",
       "   [23.562689, 87.28345733333333],\n",
       "   [23.562174833333334, 87.28345733333333],\n",
       "   [23.56166066666667, 87.28345733333333],\n",
       "   [23.56166066666667, 87.28345733333333],\n",
       "   [23.5611465, 87.28345733333333],\n",
       "   [23.560632333333334, 87.28345733333333],\n",
       "   [23.56011816666667, 87.28345733333333],\n",
       "   [23.559604, 87.28345733333333],\n",
       "   [23.559604, 87.28345733333333],\n",
       "   [23.559089833333335, 87.28432541666666],\n",
       "   [23.55857566666667, 87.28519349999999],\n",
       "   [23.5580615, 87.28606158333334],\n",
       "   [23.557547333333336, 87.28692966666667],\n",
       "   [23.557547333333336, 87.28692966666667],\n",
       "   [23.55703316666667, 87.28779775],\n",
       "   [23.556519, 87.28866583333334],\n",
       "   [23.556004833333333, 87.28953391666667],\n",
       "   [23.555490666666667, 87.290402]],\n",
       "  'AQI_sum': -21}}"
      ]
     },
     "execution_count": 14,
     "metadata": {},
     "output_type": "execute_result"
    }
   ],
   "source": [
    "paths"
   ]
  },
  {
   "cell_type": "code",
   "execution_count": 15,
   "metadata": {},
   "outputs": [],
   "source": [
    "deterministic=paths['deterministic']['Path']\n",
    "\n",
    "Probab_30=paths['probabilistic_30']['Path']\n",
    "\n",
    "Probab_50=paths['probabilistic_50']['Path']\n",
    "\n",
    "Latitudes=[p[0] for p in deterministic]\n",
    "\n",
    "Longitudes=[p[1] for p in deterministic]\n",
    "\n",
    "df_deterministic=pd.DataFrame(list(zip(Latitudes,Longitudes)),columns=['Latitudes','Longitudes'])\n",
    "\n",
    "df_deterministic.to_csv('Single_Pair_Path_deterministic.csv',index=False)\n",
    "\n",
    "\n",
    "Latitudes=[p[0] for p in Probab_30]\n",
    "\n",
    "Longitudes=[p[1] for p in Probab_30]\n",
    "\n",
    "df_Probab_30=pd.DataFrame(list(zip(Latitudes,Longitudes)),columns=['Latitudes','Longitudes'])\n",
    "\n",
    "df_Probab_30.to_csv('Single_Pair_Path_probabilistic_30.csv',index=False)\n",
    "\n",
    "\n",
    "Latitudes=[p[0] for p in Probab_50]\n",
    "\n",
    "Longitudes=[p[1] for p in Probab_50]\n",
    "\n",
    "df_Probab_50=pd.DataFrame(list(zip(Latitudes,Longitudes)),columns=['Latitudes','Longitudes'])\n",
    "\n",
    "df_Probab_50.to_csv('Single_Pair_Path_probabilistic_50.csv',index=False)\n"
   ]
  },
  {
   "cell_type": "code",
   "execution_count": null,
   "metadata": {},
   "outputs": [],
   "source": []
  }
 ],
 "metadata": {
  "kernelspec": {
   "display_name": "Python 3",
   "language": "python",
   "name": "python3"
  },
  "language_info": {
   "codemirror_mode": {
    "name": "ipython",
    "version": 3
   },
   "file_extension": ".py",
   "mimetype": "text/x-python",
   "name": "python",
   "nbconvert_exporter": "python",
   "pygments_lexer": "ipython3",
   "version": "3.6.9"
  }
 },
 "nbformat": 4,
 "nbformat_minor": 2
}
