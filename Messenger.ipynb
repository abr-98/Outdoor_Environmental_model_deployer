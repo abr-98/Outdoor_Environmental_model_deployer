{
 "cells": [
  {
   "cell_type": "code",
   "execution_count": 1,
   "metadata": {},
   "outputs": [],
   "source": [
    "import smtplib "
   ]
  },
  {
   "cell_type": "code",
   "execution_count": 2,
   "metadata": {},
   "outputs": [],
   "source": [
    "from flask import Flask,request,Response"
   ]
  },
  {
   "cell_type": "code",
   "execution_count": 3,
   "metadata": {},
   "outputs": [],
   "source": [
    "app = Flask(__name__)"
   ]
  },
  {
   "cell_type": "code",
   "execution_count": 4,
   "metadata": {},
   "outputs": [],
   "source": [
    "@app.route(\"/\")\n",
    "def home():\n",
    "    return \"Hello from Home\""
   ]
  },
  {
   "cell_type": "code",
   "execution_count": 5,
   "metadata": {},
   "outputs": [],
   "source": [
    "@app.route('/send_email')\n",
    "def send_email():\n",
    "    email=request.args.get('email')\n",
    "    body=request.args.get('body')\n",
    "    s = smtplib.SMTP('smtp.gmail.com', 587) \n",
    "    s.starttls()\n",
    "    s.login(\"cityprobe.report@gmail.com\", \"cityprobe123#\")    \n",
    "    sender=\"cityprobe.report@gmail.com\"\n",
    "    ids=email.split('_')\n",
    "    for id_ in ids:\n",
    "        message=\"From: cityprobe.report@gmail.com\\n\"\n",
    "        subject=\"Subject: URGENT: Sensing mechanism disabled\\n\\n\"\n",
    "        send_ad=\"To: \"+id_+\"\\n\"\n",
    "        message+=send_ad\n",
    "        message+=subject\n",
    "        message+=body \n",
    "        s.sendmail(sender, id_, message) \n",
    "    s.quit() \n",
    "    return Response(status = 200)"
   ]
  },
  {
   "cell_type": "code",
   "execution_count": 6,
   "metadata": {},
   "outputs": [
    {
     "name": "stdout",
     "output_type": "stream",
     "text": [
      " * Serving Flask app \"__main__\" (lazy loading)\n",
      " * Environment: production\n",
      "   WARNING: Do not use the development server in a production environment.\n",
      "   Use a production WSGI server instead.\n",
      " * Debug mode: off\n"
     ]
    },
    {
     "name": "stderr",
     "output_type": "stream",
     "text": [
      " * Running on http://127.0.0.1:5000/ (Press CTRL+C to quit)\n",
      "[2021-01-04 18:13:00,360] ERROR in app: Exception on /send_email [GET]\n",
      "Traceback (most recent call last):\n",
      "  File \"/home/abhijit/.local/lib/python3.6/site-packages/flask/app.py\", line 2292, in wsgi_app\n",
      "    response = self.full_dispatch_request()\n",
      "  File \"/home/abhijit/.local/lib/python3.6/site-packages/flask/app.py\", line 1815, in full_dispatch_request\n",
      "    rv = self.handle_user_exception(e)\n",
      "  File \"/home/abhijit/.local/lib/python3.6/site-packages/flask/app.py\", line 1718, in handle_user_exception\n",
      "    reraise(exc_type, exc_value, tb)\n",
      "  File \"/home/abhijit/.local/lib/python3.6/site-packages/flask/_compat.py\", line 35, in reraise\n",
      "    raise value\n",
      "  File \"/home/abhijit/.local/lib/python3.6/site-packages/flask/app.py\", line 1813, in full_dispatch_request\n",
      "    rv = self.dispatch_request()\n",
      "  File \"/home/abhijit/.local/lib/python3.6/site-packages/flask/app.py\", line 1799, in dispatch_request\n",
      "    return self.view_functions[rule.endpoint](**req.view_args)\n",
      "  File \"<ipython-input-5-9b27f397566d>\", line 9, in send_email\n",
      "    ids=email.split('_')\n",
      "AttributeError: 'NoneType' object has no attribute 'split'\n",
      "127.0.0.1 - - [04/Jan/2021 18:13:00] \"\u001b[1m\u001b[35mGET /send_email?emailabhijitroy1998@gmail.com_myac.abhijit@gmail.com_prasenjitkarmakar52282@gmail.com&body=Hi!!!%20Device%203%20and%20Device%204%20have%20been%20disabled HTTP/1.1\u001b[0m\" 500 -\n",
      "[2021-01-04 18:13:30,035] ERROR in app: Exception on /send_email [GET]\n",
      "Traceback (most recent call last):\n",
      "  File \"/home/abhijit/.local/lib/python3.6/site-packages/flask/app.py\", line 2292, in wsgi_app\n",
      "    response = self.full_dispatch_request()\n",
      "  File \"/home/abhijit/.local/lib/python3.6/site-packages/flask/app.py\", line 1815, in full_dispatch_request\n",
      "    rv = self.handle_user_exception(e)\n",
      "  File \"/home/abhijit/.local/lib/python3.6/site-packages/flask/app.py\", line 1718, in handle_user_exception\n",
      "    reraise(exc_type, exc_value, tb)\n",
      "  File \"/home/abhijit/.local/lib/python3.6/site-packages/flask/_compat.py\", line 35, in reraise\n",
      "    raise value\n",
      "  File \"/home/abhijit/.local/lib/python3.6/site-packages/flask/app.py\", line 1813, in full_dispatch_request\n",
      "    rv = self.dispatch_request()\n",
      "  File \"/home/abhijit/.local/lib/python3.6/site-packages/flask/app.py\", line 1799, in dispatch_request\n",
      "    return self.view_functions[rule.endpoint](**req.view_args)\n",
      "  File \"<ipython-input-5-9b27f397566d>\", line 9, in send_email\n",
      "    ids=email.split('_')\n",
      "AttributeError: 'NoneType' object has no attribute 'split'\n",
      "127.0.0.1 - - [04/Jan/2021 18:13:30] \"\u001b[1m\u001b[35mGET /send_email?emailabhijitroy1998@gmail.com_myac.abhijit@gmail.com_prasenjitkarmakar52282@gmail.com&body=Hi!!!%20Device%203%20and%20Device%204%20have%20been%20disabled HTTP/1.1\u001b[0m\" 500 -\n",
      "127.0.0.1 - - [04/Jan/2021 18:13:54] \"\u001b[37mGET /send_email?email=abhijitroy1998@gmail.com_myac.abhijit@gmail.com_prasenjitkarmakar52282@gmail.com&body=Hi!!!%20Device%203%20and%20Device%204%20have%20been%20disabled HTTP/1.1\u001b[0m\" 200 -\n"
     ]
    }
   ],
   "source": [
    "app.run()"
   ]
  },
  {
   "cell_type": "code",
   "execution_count": null,
   "metadata": {},
   "outputs": [],
   "source": []
  }
 ],
 "metadata": {
  "kernelspec": {
   "display_name": "Python 3",
   "language": "python",
   "name": "python3"
  },
  "language_info": {
   "codemirror_mode": {
    "name": "ipython",
    "version": 3
   },
   "file_extension": ".py",
   "mimetype": "text/x-python",
   "name": "python",
   "nbconvert_exporter": "python",
   "pygments_lexer": "ipython3",
   "version": "3.6.9"
  }
 },
 "nbformat": 4,
 "nbformat_minor": 2
}
