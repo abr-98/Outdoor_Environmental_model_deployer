{
 "cells": [
  {
   "cell_type": "code",
   "execution_count": 1,
   "metadata": {},
   "outputs": [],
   "source": [
    "import googlemaps\n",
    "import matplotlib.pyplot as plt\n",
    "import numpy as np\n",
    "import pandas as pd\n",
    "import pickle\n",
    "import json\n",
    "import PIL"
   ]
  },
  {
   "cell_type": "code",
   "execution_count": 2,
   "metadata": {},
   "outputs": [],
   "source": [
    "START_LONG=87.269568\n",
    "START_LAT=23.534924\n",
    "END_LONG=87.321653\n",
    "END_LAT=23.565774\n",
    "ACTIONS=8"
   ]
  },
  {
   "cell_type": "code",
   "execution_count": 3,
   "metadata": {},
   "outputs": [],
   "source": [
    "def create_divisions(N):\n",
    "    Y_Axis=np.linspace(START_LAT,END_LAT,N)\n",
    "    X_Axis=np.linspace(START_LONG,END_LONG,N)\n",
    "    Longitudes,Latitudes=np.meshgrid(X_Axis,Y_Axis)\n",
    "    df_lat_long=pd.DataFrame(list(zip(Latitudes.flatten(),Longitudes.flatten())),columns=['Latitudes','Longitudes'])\n",
    "    return df_lat_long"
   ]
  },
  {
   "cell_type": "code",
   "execution_count": 4,
   "metadata": {},
   "outputs": [],
   "source": [
    "def euclidean_distance(x1,y1,x2,y2):\n",
    "    return ((x1-x2)**2+(y1-y2)**2)**0.5\n"
   ]
  },
  {
   "cell_type": "code",
   "execution_count": 5,
   "metadata": {},
   "outputs": [],
   "source": [
    "def add_reward_pollution_column(pollution_prediction,N,destination):\n",
    "    df_lat_long=create_divisions(N)\n",
    "    \n",
    "    GOAL_STATE=np.argmin(df_lat_long[['Latitudes','Longitudes']].apply(lambda tup: euclidean_distance(tup[0],tup[1],destination[0],destination[1]),axis=1).values)\n",
    "    #### Goal state defined\n",
    "    df_lat_long['Pol_rewards']=1*(np.array((PIL.Image.fromarray(pollution_prediction)).resize((N,N),PIL.Image.NEAREST)).flatten())\n",
    "    #### For ubuntu: If Error Use this:\n",
    "    #df_lat_long['Pol_rewards']=-1*(np.array((PIL.Image.fromarray(pollution_prediction)).astype(np.uint8).fromarray(arr)).resize((N,N),PIL.Image.NEAREST)).flatten())\n",
    "    ### Defined \n",
    "    df_lat_long.loc[GOAL_STATE,'Pol_rewards']=10\n",
    "    ## Defined goal state rewards\n",
    "    return df_lat_long"
   ]
  },
  {
   "cell_type": "code",
   "execution_count": 6,
   "metadata": {},
   "outputs": [],
   "source": [
    "MAX_AQI=3\n",
    "MIN_AQI=1\n",
    "def return_combined_data(pollution_prediction,N,destination,alpha):\n",
    "    matrix=[]\n",
    "    df_state_details=add_reward_pollution_column(pollution_prediction,N,destination)\n",
    "    with open('Recorded_details.json', 'r') as openfile: \n",
    "        fixed_data = json.load(openfile)\n",
    "    for i in range(N):\n",
    "        for j in range(N):\n",
    "            #print(N*i+j)\n",
    "            point_det=[]\n",
    "            data=fixed_data.get(str(N*i+j))\n",
    "            point_det.append(data['Id'])\n",
    "            for action in range(ACTIONS):\n",
    "                if data['directions'][str(action)]['distance']!=0:\n",
    "                    #print(\"Distance Cost\")\n",
    "                    #print(data['directions'][str(action)]['cost'])\n",
    "                    if df_state_details.iloc[data['directions'][str(action)]['id']]['Pol_rewards']!=10:\n",
    "                        data['directions'][str(action)]['cost']=alpha*(data['directions'][str(action)]['cost'])-(1-alpha)*((df_state_details.iloc[data['directions'][str(action)]['id']]['Pol_rewards']-MIN_AQI)/(MAX_AQI-MIN_AQI))\n",
    "                    else:\n",
    "                        data['directions'][str(action)]['cost']=10\n",
    "                else:\n",
    "                    data['directions'][str(action)]['cost']=-df_state_details.iloc[data['directions'][str(action)]['id']]['Pol_rewards']\n",
    "            \n",
    "                #print(\"Cost\")\n",
    "                #print(data['directions'][str(action)]['cost'])\n",
    "            point_det.append(data['directions'])\n",
    "            matrix.append(point_det)\n",
    "    df_matrix=pd.DataFrame(matrix,columns=['Id','directions'])\n",
    "    print(\"Matrix Formed\")\n",
    "    df_state_details=pd.concat([df_matrix,df_state_details],axis=1)\n",
    "    \n",
    "    return df_state_details\n",
    "        "
   ]
  },
  {
   "cell_type": "code",
   "execution_count": 7,
   "metadata": {},
   "outputs": [],
   "source": [
    "#### ALGORITHM\n",
    "def policy_iteration(P,R,STATES):\n",
    "    Q=np.zeros((ACTIONS,STATES,1))\n",
    "    Q_bk=np.random.random((ACTIONS,STATES,1))\n",
    "    V=np.zeros((STATES,1))\n",
    "    gamma=0.999\n",
    "    while(np.abs(Q-Q_bk).sum()>0.000001):\n",
    "        Q_bk=Q.copy()\n",
    "        Q=R+gamma*np.matmul(P,V)\n",
    "        policy=np.argmax(Q,axis=0)\n",
    "        V=np.max(Q,axis=0)\n",
    "    return policy"
   ]
  },
  {
   "cell_type": "code",
   "execution_count": 8,
   "metadata": {},
   "outputs": [],
   "source": [
    "### ALGORITHM EXECUTER\n",
    "def return_policy(pollution_prediction,destination,N,alpha):\n",
    "    df_state_details=return_combined_data(pollution_prediction,N,destination,alpha)\n",
    "    STATES=len(df_state_details)\n",
    "    P=np.zeros((ACTIONS,STATES,STATES))\n",
    "    R=np.zeros((ACTIONS,STATES,1))\n",
    "    print(\"Policy Obtaining\")\n",
    "    for state in range(STATES):\n",
    "        mapping=df_state_details.iloc[state]['directions']\n",
    "        for action in range(ACTIONS):\n",
    "            move=mapping.get(str(action))\n",
    "            P[action,state,move['id']]=1\n",
    "            R[action,state]=move['cost']\n",
    "    policy=policy_iteration(P,R,STATES)\n",
    "    print(\"Policy Obtained\")\n",
    "    return policy,df_state_details "
   ]
  },
  {
   "cell_type": "code",
   "execution_count": 25,
   "metadata": {},
   "outputs": [
    {
     "name": "stdout",
     "output_type": "stream",
     "text": [
      "Matrix Formed\n",
      "Policy Obtaining\n",
      "Policy Obtained\n"
     ]
    }
   ],
   "source": [
    "source=23.56568156877239, 87.28445354827693\n",
    "dest=23.537625544471684, 87.29727109990786\n",
    "alpha=0.9\n",
    "arr=np.array([\n",
    "    [1,2,1,3],\n",
    "    [2,3,1,3],\n",
    "    [1,2,1,2],\n",
    "    [2,2,3,3]\n",
    "    ],dtype=np.uint8)\n",
    "policy,df_state=return_policy(arr,dest,16,alpha)"
   ]
  },
  {
   "cell_type": "code",
   "execution_count": 26,
   "metadata": {},
   "outputs": [],
   "source": [
    "N=16\n",
    "mappings={0:{'v':1,'u':0},\n",
    "          1:{'v':1,'u':1},\n",
    "          2:{'v':0,'u':1},\n",
    "          3:{'v':-1,'u':1},\n",
    "          4:{'v':-1,'u':0},\n",
    "          5:{'v':-1,'u':-1},\n",
    "          6:{'v':0,'u':-1},\n",
    "          7:{'v':1,'u':-1}}\n",
    "\n",
    "U=np.array(list(map(lambda e:mappings[e]['u'],list(policy.flatten())))).reshape(N,N)\n",
    "V=np.array(list(map(lambda e:mappings[e]['v'],list(policy.flatten())))).reshape(N,N)\n",
    "\n",
    "X=df_state.Latitudes.values.reshape(N,N)\n",
    "Y=df_state.Longitudes.values.reshape(N,N)"
   ]
  },
  {
   "cell_type": "code",
   "execution_count": 27,
   "metadata": {},
   "outputs": [],
   "source": [
    "\n",
    "fig=plt.figure(figsize=(15,9))\n",
    "ax=fig.add_subplot(111)\n",
    "ax.quiver(X,Y,U,V)\n",
    "plt.xticks(rotation=90)\n",
    "plt.yticks(rotation=180)\n",
    "    ############################################################\n",
    "for i,(x,y) in enumerate(zip(X.flatten(),Y.flatten())):\n",
    "    ax.annotate(str(i),(x,y),color='blue',rotation=180)\n",
    "\n",
    "fig.savefig('./Outputs/path.png')\n",
    "plt.close()\n",
    "\n",
    "plain = PIL.Image.open(\"./Outputs/path.png\")\n",
    "plain=plain.rotate(-180)\n",
    "plain.save(\"./Outputs/path.png\")"
   ]
  },
  {
   "cell_type": "code",
   "execution_count": 29,
   "metadata": {},
   "outputs": [],
   "source": [
    "def get_single_source_path_deterministic(source,destination,pollution_prediction,alpha=0.3,N=16): \n",
    "    policy,df_state=return_policy(pollution_prediction,destination,N,alpha)    \n",
    "    SOURCE_STATE=np.argmin(df_state[['Latitudes','Longitudes']].apply(lambda tup: euclidean_distance(tup[0],tup[1],source[0],source[1]),axis=1).values)\n",
    "    GOAL_STATE=np.argmin(df_state[['Latitudes','Longitudes']].apply(lambda tup: euclidean_distance(tup[0],tup[1],destination[0],destination[1]),axis=1).values)\n",
    "    Path=[]\n",
    "    AQI_SUM=0\n",
    "    state=SOURCE_STATE\n",
    "    #print(GOAL_STATE)\n",
    "    while state!=GOAL_STATE:\n",
    "        Tuples=df_state.iloc[state]['directions'][str(policy[state][0])]['Tuples_list']\n",
    "        AQI_SUM+=df_state.iloc[state]['Pol_rewards']\n",
    "        for tup in Tuples:\n",
    "            Path.append(tup)\n",
    "        state=df_state.iloc[state]['directions'][str(policy[state][0])]['id']\n",
    "        #print(state)\n",
    "    \n",
    "    map_to_return={}\n",
    "    map_to_return['Path']=list(Path)\n",
    "    map_to_return['AQI_sum']=int(AQI_SUM)\n",
    "    print(\"Deterministic Done\")\n",
    "    return map_to_return\n",
    "    "
   ]
  },
  {
   "cell_type": "code",
   "execution_count": 30,
   "metadata": {},
   "outputs": [],
   "source": [
    "def get_single_source_path_probabilistic_30(source,destination,pollution_prediction,alpha=0.3,N=16): \n",
    "    policy,df_state=return_policy(pollution_prediction,destination,N,alpha)    \n",
    "    SOURCE_STATE=np.argmin(df_state[['Latitudes','Longitudes']].apply(lambda tup: euclidean_distance(tup[0],tup[1],source[0],source[1]),axis=1).values)\n",
    "    #dest_lat,dest_long=get_lat_long(destination)\n",
    "    GOAL_STATE=np.argmin(df_state[['Latitudes','Longitudes']].apply(lambda tup: euclidean_distance(tup[0],tup[1],destination[0],destination[1]),axis=1).values)\n",
    "    Path=[]\n",
    "    state=SOURCE_STATE\n",
    "    AQI_SUM=0\n",
    "    while state!=GOAL_STATE:\n",
    "        if np.random.random()<=0.7:\n",
    "            action=policy[state][0]\n",
    "        else:\n",
    "            action=np.random.randint(0,8)\n",
    "            \n",
    "        Tuples=df_state.iloc[state]['directions'][str(action)]['Tuples_list']\n",
    "        AQI_SUM+=df_state.iloc[state]['Pol_rewards']\n",
    "        for tup in Tuples:\n",
    "            Path.append(tup)\n",
    "        state=df_state.iloc[state]['directions'][str(action)]['id']\n",
    "    \n",
    "    map_to_return={}\n",
    "    map_to_return['Path']=list(Path)\n",
    "    map_to_return['AQI_sum']=int(AQI_SUM)\n",
    "    print(\"Probabilistic 30 Done\")\n",
    "    return map_to_return\n",
    "    "
   ]
  },
  {
   "cell_type": "code",
   "execution_count": 31,
   "metadata": {},
   "outputs": [],
   "source": [
    "def get_single_source_path_probabilistic_50(source,destination,pollution_prediction,alpha=0.3,N=16): \n",
    "    policy,df_state=return_policy(pollution_prediction,destination,N,alpha)    \n",
    "    SOURCE_STATE=np.argmin(df_state[['Latitudes','Longitudes']].apply(lambda tup: euclidean_distance(tup[0],tup[1],source[0],source[1]),axis=1).values)\n",
    "    #dest_lat,dest_long=get_lat_long(destination)\n",
    "    GOAL_STATE=np.argmin(df_state[['Latitudes','Longitudes']].apply(lambda tup: euclidean_distance(tup[0],tup[1],destination[0],destination[1]),axis=1).values)\n",
    "    Path=[]\n",
    "    state=SOURCE_STATE\n",
    "    AQI_SUM=0\n",
    "    while state!=GOAL_STATE:\n",
    "        if np.random.random()<=0.5:\n",
    "            action=policy[state][0]\n",
    "        else:\n",
    "            action=np.random.randint(0,8)\n",
    "            \n",
    "        Tuples=df_state.iloc[state]['directions'][str(action)]['Tuples_list']\n",
    "        AQI_SUM+=df_state.iloc[state]['Pol_rewards']\n",
    "        for tup in Tuples:\n",
    "            Path.append(tup)\n",
    "        state=df_state.iloc[state]['directions'][str(action)]['id']\n",
    "    \n",
    "    map_to_return={}\n",
    "    map_to_return['Path']=list(Path)\n",
    "    map_to_return['AQI_sum']=int(AQI_SUM)\n",
    "    print(\"Probabilistic 50 Done\")\n",
    "    return map_to_return\n",
    "    "
   ]
  },
  {
   "cell_type": "code",
   "execution_count": 32,
   "metadata": {},
   "outputs": [],
   "source": [
    "def all_results(source,destination,pollution_prediction,alpha=0.3):\n",
    "    source_l=source.split('_')\n",
    "    source=(float(source_l[0]),float(source_l[1]))\n",
    "    dest_l=destination.split('_')\n",
    "    destination=(float(dest_l[0]),float(dest_l[1]))\n",
    "    \n",
    "    deterministic_path_details=get_single_source_path_deterministic(source,destination,pollution_prediction,alpha)\n",
    "    probabilistic_30_path_details=get_single_source_path_probabilistic_30(source,destination,pollution_prediction,alpha)\n",
    "    probabilistic_50_path_details=get_single_source_path_probabilistic_50(source,destination,pollution_prediction,alpha)\n",
    "    \n",
    "    mapping_routes={}\n",
    "    mapping_routes['deterministic']=deterministic_path_details\n",
    "    mapping_routes['probabilistic_30']=probabilistic_30_path_details\n",
    "    mapping_routes['probabilistic_50']=probabilistic_50_path_details\n",
    "    \n",
    "    return mapping_routes\n",
    "    "
   ]
  },
  {
   "cell_type": "markdown",
   "metadata": {},
   "source": [
    "from flask import Flask,request,Response,jsonify"
   ]
  },
  {
   "cell_type": "markdown",
   "metadata": {},
   "source": [
    "app = Flask(__name__)"
   ]
  },
  {
   "cell_type": "markdown",
   "metadata": {},
   "source": [
    "@app.route('/')\n",
    "def home():\n",
    "    return \"Hello from home\""
   ]
  },
  {
   "cell_type": "markdown",
   "metadata": {},
   "source": [
    "@app.route('/get_route')\n",
    "def get_route():\n",
    "    source=request.args.get('src')\n",
    "    destination=request.args.get('dst')\n",
    "    alpha=float(request.args.get('weight'))\n",
    "    arr=np.array([\n",
    "    [1,2,1,3],\n",
    "    [2,1,1,3],\n",
    "    [1,1,1,2],\n",
    "    [2,2,3,3]\n",
    "    ],dtype=np.uint8)\n",
    "    paths=all_results(source,destination,arr,alpha)\n",
    "    return jsonify(paths)\n",
    "    "
   ]
  },
  {
   "cell_type": "code",
   "execution_count": 33,
   "metadata": {
    "scrolled": false
   },
   "outputs": [],
   "source": [
    "#app.run()"
   ]
  },
  {
   "cell_type": "code",
   "execution_count": 47,
   "metadata": {
    "scrolled": true
   },
   "outputs": [
    {
     "name": "stdout",
     "output_type": "stream",
     "text": [
      "Matrix Formed\n",
      "Policy Obtaining\n",
      "Policy Obtained\n",
      "229\n",
      "214\n",
      "199\n",
      "184\n",
      "169\n",
      "154\n",
      "138\n",
      "122\n",
      "106\n",
      "90\n",
      "74\n",
      "57\n",
      "41\n",
      "24\n",
      "Deterministic Done\n",
      "Matrix Formed\n",
      "Policy Obtaining\n",
      "Policy Obtained\n",
      "Probabilistic 30 Done\n",
      "Matrix Formed\n",
      "Policy Obtaining\n",
      "Policy Obtained\n",
      "Probabilistic 50 Done\n"
     ]
    }
   ],
   "source": [
    "source=23.56568156877239, 87.28445354827693\n",
    "dest=23.537625544471684, 87.29727109990786\n",
    "src=str(source[0])+'_'+str(source[1])\n",
    "dst=str(dest[0])+'_'+str(dest[1])\n",
    "alpha=0.5\n",
    "arr=np.array([\n",
    "    [1,2,1,3],\n",
    "    [2,3,1,3],\n",
    "    [1,2,1,2],\n",
    "    [2,2,3,3]\n",
    "    ],dtype=np.uint8)\n",
    "paths=all_results(src,dst,arr,alpha)"
   ]
  },
  {
   "cell_type": "markdown",
   "metadata": {},
   "source": [
    "deterministic=paths['deterministic']['Path']\n",
    "\n",
    "Probab_30=paths['probabilistic_30']['Path']\n",
    "\n",
    "Probab_50=paths['probabilistic_50']['Path']\n",
    "\n",
    "Latitudes=[p[0] for p in deterministic]\n",
    "\n",
    "Longitudes=[p[1] for p in deterministic]\n",
    "\n",
    "df_deterministic=pd.DataFrame(list(zip(Latitudes,Longitudes)),columns=['Latitudes','Longitudes'])\n",
    "\n",
    "df_deterministic.to_csv('Single_Pair_Path_deterministic.csv',index=False)\n",
    "\n",
    "\n",
    "Latitudes=[p[0] for p in Probab_30]\n",
    "\n",
    "Longitudes=[p[1] for p in Probab_30]\n",
    "\n",
    "df_Probab_30=pd.DataFrame(list(zip(Latitudes,Longitudes)),columns=['Latitudes','Longitudes'])\n",
    "\n",
    "df_Probab_30.to_csv('Single_Pair_Path_probabilistic_30.csv',index=False)\n",
    "\n",
    "\n",
    "Latitudes=[p[0] for p in Probab_50]\n",
    "\n",
    "Longitudes=[p[1] for p in Probab_50]\n",
    "\n",
    "df_Probab_50=pd.DataFrame(list(zip(Latitudes,Longitudes)),columns=['Latitudes','Longitudes'])\n",
    "\n",
    "df_Probab_50.to_csv('Single_Pair_Path_probabilistic_50.csv',index=False)\n"
   ]
  },
  {
   "cell_type": "code",
   "execution_count": 54,
   "metadata": {},
   "outputs": [],
   "source": [
    "#ploting"
   ]
  },
  {
   "cell_type": "code",
   "execution_count": 48,
   "metadata": {},
   "outputs": [],
   "source": [
    "import gmplot \n",
    "\n",
    "gmap3 = gmplot.GoogleMapPlotter(source[0],source[1], 15) \n",
    "\n",
    "gmap3.scatter( [source[0],dest[0]], [source[1],dest[1]], 'red',size = 60, marker = False )\n",
    "\n",
    "#Deterministic  \n",
    "latitude_list = [e[0] for e in paths['deterministic']['Path']]\n",
    "longitude_list = [e[1] for e in paths['deterministic']['Path']]\n",
    "\n",
    "gmap3.plot(latitude_list, longitude_list,'darkgreen', edge_width = 15)\n",
    "\n",
    "#probablistic-30  \n",
    "latitude_list = [e[0] for e in paths['probabilistic_30']['Path']]\n",
    "longitude_list = [e[1] for e in paths['probabilistic_30']['Path']]\n",
    "\n",
    "#gmap3.plot(latitude_list, longitude_list,'orange', edge_width =7)\n",
    "\n",
    "#probablistic-50 \n",
    "latitude_list = [e[0] for e in paths['probabilistic_50']['Path']]\n",
    "longitude_list = [e[1] for e in paths['probabilistic_50']['Path']]\n",
    "\n",
    "#gmap3.plot(latitude_list, longitude_list,'black', edge_width = 5)\n",
    "\n",
    "\n",
    "  \n",
    "gmap3.draw( \"./Outputs/map13.html\" )"
   ]
  },
  {
   "cell_type": "code",
   "execution_count": 49,
   "metadata": {
    "scrolled": false
   },
   "outputs": [
    {
     "data": {
      "text/html": [
       "\n",
       "        <iframe\n",
       "            width=\"900\"\n",
       "            height=\"600\"\n",
       "            src=\"./Outputs/map13.html\"\n",
       "            frameborder=\"0\"\n",
       "            allowfullscreen\n",
       "        ></iframe>\n",
       "        "
      ],
      "text/plain": [
       "<IPython.lib.display.IFrame at 0x7ff49a9269e8>"
      ]
     },
     "execution_count": 49,
     "metadata": {},
     "output_type": "execute_result"
    }
   ],
   "source": [
    "from IPython.display import IFrame\n",
    "IFrame(src='./Outputs/map13.html', width=900, height=600)"
   ]
  },
  {
   "cell_type": "code",
   "execution_count": null,
   "metadata": {},
   "outputs": [],
   "source": []
  }
 ],
 "metadata": {
  "kernelspec": {
   "display_name": "Python 3",
   "language": "python",
   "name": "python3"
  },
  "language_info": {
   "codemirror_mode": {
    "name": "ipython",
    "version": 3
   },
   "file_extension": ".py",
   "mimetype": "text/x-python",
   "name": "python",
   "nbconvert_exporter": "python",
   "pygments_lexer": "ipython3",
   "version": "3.6.9"
  }
 },
 "nbformat": 4,
 "nbformat_minor": 2
}
